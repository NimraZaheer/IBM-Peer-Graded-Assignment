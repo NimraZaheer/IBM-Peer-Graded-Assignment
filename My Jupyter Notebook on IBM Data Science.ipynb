{
 "cells": [
  {
   "cell_type": "markdown",
   "id": "e32264d3",
   "metadata": {},
   "source": [
    "# My Jupyter Notebook on IBM Data Science Experience"
   ]
  },
  {
   "cell_type": "markdown",
   "id": "dfaeb678",
   "metadata": {},
   "source": [
    "#### Nimra Zaheer\n",
    "Student of BS Artificial Intelligence"
   ]
  },
  {
   "cell_type": "markdown",
   "id": "27bd8d11",
   "metadata": {},
   "source": [
    "I am from Pakistan, I am interested in data science because I love telling stories with data and using data to help bring that data to life.I love helping others. In data science that could be helping a business understand its customers or improving the way it uses its customer data."
   ]
  },
  {
   "cell_type": "markdown",
   "id": "10243899",
   "metadata": {},
   "source": [
    "## Data Science Languages"
   ]
  },
  {
   "cell_type": "markdown",
   "id": "89836ea9",
   "metadata": {},
   "source": [
    "The four Data Science Languages are given below:\n",
    "1. Python\n",
    "2. R\n",
    "3. Julia\n",
    "4. Java"
   ]
  },
  {
   "cell_type": "markdown",
   "id": "ac3f571c",
   "metadata": {},
   "source": [
    "## Data Science Libraries\n",
    "\n",
    "The four Data Science libraries are:\n",
    "1. Scikit-Learn\n",
    "2. Tensorflow\n",
    "3. Pytorch\n",
    "4. Keras\n"
   ]
  },
  {
   "cell_type": "markdown",
   "id": "5f79c072",
   "metadata": {},
   "source": [
    "## Data Science Tools\n",
    "\n",
    "|Tools|\n",
    "|-----|\n",
    "|Apache Spark|\n",
    "|D3.js|\n",
    "|IBM SPSS|\n",
    "|Julia|\n",
    "|Jupyter Notebook|\n",
    "\n"
   ]
  },
  {
   "cell_type": "markdown",
   "id": "6aa3d182",
   "metadata": {},
   "source": [
    "## Arithmetic Expression\n",
    "An arithmetic expression is an expression built up using numbers, arithmetic operators (such as +, , -, / and ) and parentheses, \"(\" and \")\".\n",
    "An arithmetic expression in which the only operators are +,, - and exponentiation, is called a simple arithmetic expression. Here are some examples:\n",
    "\n",
    "(3 + 4) -- the  sum of numbers is an arithmetic expression\n",
    "\n",
    "(7 - 3) --  the difference  of two  numbers is an arithmetic expression"
   ]
  },
  {
   "cell_type": "markdown",
   "id": "82eddbd1",
   "metadata": {},
   "source": [
    "## Multiply and Add Numbers"
   ]
  },
  {
   "cell_type": "code",
   "execution_count": 4,
   "id": "8d3f3f8c",
   "metadata": {},
   "outputs": [
    {
     "name": "stdout",
     "output_type": "stream",
     "text": [
      "64\n",
      "16\n"
     ]
    }
   ],
   "source": [
    "a = 8\n",
    "b = 8\n",
    "\n",
    "print(a*b)\n",
    "print(a+b)"
   ]
  },
  {
   "cell_type": "markdown",
   "id": "d6a87906",
   "metadata": {},
   "source": [
    "## Minutes To Hours"
   ]
  },
  {
   "cell_type": "code",
   "execution_count": 5,
   "id": "2c1fdbc5",
   "metadata": {},
   "outputs": [
    {
     "name": "stdout",
     "output_type": "stream",
     "text": [
      "120 minutes is equal to 2.0 hours\n"
     ]
    }
   ],
   "source": [
    "# Input: Minutes\n",
    "minutes = 120  \n",
    "\n",
    "# Conversion\n",
    "hours = minutes / 60\n",
    "\n",
    "# Output\n",
    "print(f\"{minutes} minutes is equal to {hours} hours\")"
   ]
  },
  {
   "cell_type": "markdown",
   "id": "e844c091",
   "metadata": {},
   "source": [
    "__objectives__\n",
    "* List popular languages for data science\n",
    "* List popular libraries for data science\n",
    "* List of well known data science tools\n"
   ]
  },
  {
   "cell_type": "markdown",
   "id": "a820e206",
   "metadata": {},
   "source": [
    "## Author\n",
    "\n",
    "Nimra Zaheer"
   ]
  },
  {
   "cell_type": "code",
   "execution_count": null,
   "id": "00f9c399",
   "metadata": {},
   "outputs": [],
   "source": []
  }
 ],
 "metadata": {
  "kernelspec": {
   "display_name": "Python 3 (ipykernel)",
   "language": "python",
   "name": "python3"
  },
  "language_info": {
   "codemirror_mode": {
    "name": "ipython",
    "version": 3
   },
   "file_extension": ".py",
   "mimetype": "text/x-python",
   "name": "python",
   "nbconvert_exporter": "python",
   "pygments_lexer": "ipython3",
   "version": "3.10.11"
  }
 },
 "nbformat": 4,
 "nbformat_minor": 5
}
